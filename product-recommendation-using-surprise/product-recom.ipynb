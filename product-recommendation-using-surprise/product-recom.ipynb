{
 "cells": [
  {
   "cell_type": "code",
   "execution_count": 3,
   "metadata": {},
   "outputs": [
    {
     "name": "stdout",
     "output_type": "stream",
     "text": [
      "Requirement already satisfied: scikit-surprise in /usr/local/lib/python3.8/dist-packages (1.1.3)\n",
      "Requirement already satisfied: joblib>=1.0.0 in /home/sujan/.local/lib/python3.8/site-packages (from scikit-surprise) (1.1.1)\n",
      "Requirement already satisfied: scipy>=1.3.2 in /home/sujan/.local/lib/python3.8/site-packages (from scikit-surprise) (1.10.1)\n",
      "Requirement already satisfied: numpy>=1.17.3 in /home/sujan/.local/lib/python3.8/site-packages (from scikit-surprise) (1.22.4)\n"
     ]
    }
   ],
   "source": [
    "! pip install scikit-surprise"
   ]
  },
  {
   "cell_type": "code",
   "execution_count": 1,
   "metadata": {},
   "outputs": [],
   "source": [
    "import pandas as pd\n",
    "from surprise import Dataset, Reader, SVD\n",
    "from surprise.model_selection import train_test_split\n",
    "from collections import defaultdict"
   ]
  },
  {
   "cell_type": "code",
   "execution_count": 2,
   "metadata": {},
   "outputs": [
    {
     "data": {
      "text/html": [
       "<div>\n",
       "<style scoped>\n",
       "    .dataframe tbody tr th:only-of-type {\n",
       "        vertical-align: middle;\n",
       "    }\n",
       "\n",
       "    .dataframe tbody tr th {\n",
       "        vertical-align: top;\n",
       "    }\n",
       "\n",
       "    .dataframe thead th {\n",
       "        text-align: right;\n",
       "    }\n",
       "</style>\n",
       "<table border=\"1\" class=\"dataframe\">\n",
       "  <thead>\n",
       "    <tr style=\"text-align: right;\">\n",
       "      <th></th>\n",
       "      <th>userID</th>\n",
       "      <th>itemID</th>\n",
       "      <th>rating</th>\n",
       "      <th>timestamp</th>\n",
       "    </tr>\n",
       "  </thead>\n",
       "  <tbody>\n",
       "    <tr>\n",
       "      <th>0</th>\n",
       "      <td>1</td>\n",
       "      <td>1</td>\n",
       "      <td>4.0</td>\n",
       "      <td>964982703</td>\n",
       "    </tr>\n",
       "    <tr>\n",
       "      <th>1</th>\n",
       "      <td>1</td>\n",
       "      <td>3</td>\n",
       "      <td>4.0</td>\n",
       "      <td>964981247</td>\n",
       "    </tr>\n",
       "    <tr>\n",
       "      <th>2</th>\n",
       "      <td>1</td>\n",
       "      <td>6</td>\n",
       "      <td>4.0</td>\n",
       "      <td>964982224</td>\n",
       "    </tr>\n",
       "    <tr>\n",
       "      <th>3</th>\n",
       "      <td>1</td>\n",
       "      <td>47</td>\n",
       "      <td>5.0</td>\n",
       "      <td>964983815</td>\n",
       "    </tr>\n",
       "    <tr>\n",
       "      <th>4</th>\n",
       "      <td>1</td>\n",
       "      <td>50</td>\n",
       "      <td>5.0</td>\n",
       "      <td>964982931</td>\n",
       "    </tr>\n",
       "    <tr>\n",
       "      <th>...</th>\n",
       "      <td>...</td>\n",
       "      <td>...</td>\n",
       "      <td>...</td>\n",
       "      <td>...</td>\n",
       "    </tr>\n",
       "    <tr>\n",
       "      <th>19995</th>\n",
       "      <td>132</td>\n",
       "      <td>1028</td>\n",
       "      <td>4.0</td>\n",
       "      <td>1157923009</td>\n",
       "    </tr>\n",
       "    <tr>\n",
       "      <th>19996</th>\n",
       "      <td>132</td>\n",
       "      <td>1035</td>\n",
       "      <td>3.5</td>\n",
       "      <td>1157922959</td>\n",
       "    </tr>\n",
       "    <tr>\n",
       "      <th>19997</th>\n",
       "      <td>132</td>\n",
       "      <td>1042</td>\n",
       "      <td>3.0</td>\n",
       "      <td>1157923521</td>\n",
       "    </tr>\n",
       "    <tr>\n",
       "      <th>19998</th>\n",
       "      <td>132</td>\n",
       "      <td>1059</td>\n",
       "      <td>3.0</td>\n",
       "      <td>1329984112</td>\n",
       "    </tr>\n",
       "    <tr>\n",
       "      <th>19999</th>\n",
       "      <td>132</td>\n",
       "      <td>1073</td>\n",
       "      <td>3.5</td>\n",
       "      <td>1329983931</td>\n",
       "    </tr>\n",
       "  </tbody>\n",
       "</table>\n",
       "<p>20000 rows × 4 columns</p>\n",
       "</div>"
      ],
      "text/plain": [
       "       userID  itemID  rating   timestamp\n",
       "0           1       1     4.0   964982703\n",
       "1           1       3     4.0   964981247\n",
       "2           1       6     4.0   964982224\n",
       "3           1      47     5.0   964983815\n",
       "4           1      50     5.0   964982931\n",
       "...       ...     ...     ...         ...\n",
       "19995     132    1028     4.0  1157923009\n",
       "19996     132    1035     3.5  1157922959\n",
       "19997     132    1042     3.0  1157923521\n",
       "19998     132    1059     3.0  1329984112\n",
       "19999     132    1073     3.5  1329983931\n",
       "\n",
       "[20000 rows x 4 columns]"
      ]
     },
     "execution_count": 2,
     "metadata": {},
     "output_type": "execute_result"
    }
   ],
   "source": [
    "df = pd.read_csv(\"ratings.csv\",low_memory=True)[:20000]\n",
    "df"
   ]
  },
  {
   "cell_type": "markdown",
   "metadata": {},
   "source": [
    "Next, we need to use two objects from the Surprise library. First, we need to create a Reader object, to which we will indicate the rating scale. Remember, the user rated items on a scale of 1 to 5 stars."
   ]
  },
  {
   "cell_type": "code",
   "execution_count": 3,
   "metadata": {},
   "outputs": [
    {
     "data": {
      "text/plain": [
       "<surprise.reader.Reader at 0x7f63f20a0c10>"
      ]
     },
     "execution_count": 3,
     "metadata": {},
     "output_type": "execute_result"
    }
   ],
   "source": [
    "reader = Reader(rating_scale=(1, 5))\n",
    "reader"
   ]
  },
  {
   "cell_type": "markdown",
   "metadata": {},
   "source": [
    "Afterwards, we will create a Dataset object that will load the information from our DataFrame into a data object that we can work with in Surprise."
   ]
  },
  {
   "cell_type": "code",
   "execution_count": 6,
   "metadata": {},
   "outputs": [
    {
     "data": {
      "text/plain": [
       "<surprise.dataset.DatasetAutoFolds at 0x7f63f1dfe2e0>"
      ]
     },
     "execution_count": 6,
     "metadata": {},
     "output_type": "execute_result"
    }
   ],
   "source": [
    "data = Dataset.load_from_df(df[[\"userID\", \"itemID\", \"rating\"]], reader)\n",
    "data"
   ]
  },
  {
   "cell_type": "code",
   "execution_count": 7,
   "metadata": {},
   "outputs": [],
   "source": [
    "from surprise.model_selection import train_test_split\n",
    "\n",
    "trainset, testset = train_test_split(data, test_size=0.25)"
   ]
  },
  {
   "cell_type": "markdown",
   "metadata": {},
   "source": [
    "#### With two lines of code we train our algorithm"
   ]
  },
  {
   "cell_type": "code",
   "execution_count": 8,
   "metadata": {},
   "outputs": [
    {
     "data": {
      "text/plain": [
       "<surprise.prediction_algorithms.matrix_factorization.SVD at 0x7f63f2360d30>"
      ]
     },
     "execution_count": 8,
     "metadata": {},
     "output_type": "execute_result"
    }
   ],
   "source": [
    "algo = SVD()\n",
    "algo.fit(data.build_full_trainset())"
   ]
  },
  {
   "cell_type": "code",
   "execution_count": 16,
   "metadata": {},
   "outputs": [
    {
     "data": {
      "text/plain": [
       "[Prediction(uid=73, iid=76751, r_ui=3.6013, est=3.6632193599098524, details={'was_impossible': False}),\n",
       " Prediction(uid=73, iid=435, r_ui=3.6013, est=2.6409810212383866, details={'was_impossible': False}),\n",
       " Prediction(uid=73, iid=17, r_ui=3.6013, est=3.552442609840415, details={'was_impossible': False}),\n",
       " Prediction(uid=73, iid=4993, r_ui=3.6013, est=3.920445912912125, details={'was_impossible': False})]"
      ]
     },
     "execution_count": 16,
     "metadata": {},
     "output_type": "execute_result"
    }
   ],
   "source": [
    "predictions = algo.test(trainset.build_anti_testset())\n",
    "# taking first 4 prediction data\n",
    "predictions[:4]"
   ]
  },
  {
   "cell_type": "code",
   "execution_count": 12,
   "metadata": {},
   "outputs": [],
   "source": [
    "# top_n = defaultdict(list)\n",
    "# top_n"
   ]
  },
  {
   "cell_type": "code",
   "execution_count": 32,
   "metadata": {},
   "outputs": [],
   "source": [
    "top_n = defaultdict(list)\n",
    "for uid, iid, true_r, est, _ in predictions:\n",
    "  top_n[uid].append((iid, est))"
   ]
  },
  {
   "cell_type": "code",
   "execution_count": 33,
   "metadata": {},
   "outputs": [],
   "source": [
    "k = 10\n",
    "for uid, user_ratings in top_n.items():\n",
    "  user_ratings.sort(key=lambda x: x[1], reverse=True)\n",
    "  top_n[uid] = user_ratings[:k]"
   ]
  },
  {
   "cell_type": "code",
   "execution_count": 34,
   "metadata": {},
   "outputs": [
    {
     "data": {
      "text/plain": [
       "132"
      ]
     },
     "execution_count": 34,
     "metadata": {},
     "output_type": "execute_result"
    }
   ],
   "source": [
    "top_n\n",
    "# for key in top_n.keys():\n",
    "#     print(key)\n",
    "len(top_n)"
   ]
  },
  {
   "cell_type": "code",
   "execution_count": 40,
   "metadata": {},
   "outputs": [
    {
     "data": {
      "text/plain": [
       "[(1221, 4.894249651591709),\n",
       " (1198, 4.865840888398351),\n",
       " (1210, 4.755898080457173),\n",
       " (16, 4.74299214547761),\n",
       " (541, 4.734548697912365),\n",
       " (1196, 4.72824979411848),\n",
       " (1197, 4.710736309537787),\n",
       " (5618, 4.705201467809434),\n",
       " (858, 4.702803595443689),\n",
       " (527, 4.690310205297098)]"
      ]
     },
     "execution_count": 40,
     "metadata": {},
     "output_type": "execute_result"
    }
   ],
   "source": [
    "user_ratings"
   ]
  },
  {
   "cell_type": "code",
   "execution_count": 42,
   "metadata": {},
   "outputs": [
    {
     "name": "stdout",
     "output_type": "stream",
     "text": [
      "Recommendations\n",
      "========================================\n",
      "UserId 73\titems: [1198, 2858, 1206, 318, 475, 2300, 2423, 296, 3147, 527]\n",
      "UserId 68\titems: [40815, 741, 912, 32587, 70183, 44195, 62439, 55118, 457, 3793]\n",
      "UserId 21\titems: [318, 3082, 912, 2081, 2261, 1097, 2078, 1101, 2692, 68954]\n",
      "UserId 71\titems: [318, 1196, 1198, 2858, 1197, 49272, 1089, 1221, 2028, 8633]\n",
      "UserId 94\titems: [2571, 1197, 260, 858, 1221, 541, 49272, 58559, 50, 1210]\n",
      "UserId 82\titems: [50, 1212, 2160, 912, 593, 2692, 260, 318, 3275, 1206]\n",
      "UserId 112\titems: [1198, 1196, 49272, 260, 480, 2858, 48780, 362, 4848, 54881]\n",
      "UserId 122\titems: [541, 1198, 858, 16, 3147, 1221, 527, 1653, 1210, 912]\n",
      "UserId 111\titems: [2959, 912, 1278, 955, 1198, 50, 1258, 318, 3147, 553]\n",
      "UserId 119\titems: [1221, 1198, 1210, 16, 541, 1196, 1197, 5618, 858, 527]\n"
     ]
    }
   ],
   "source": [
    "print(\"Recommendations\")\n",
    "print(\"=\" * 40)\n",
    "for uid, user_ratings in list(top_n.items())[:10]:\n",
    "  items = [iid for (iid, _) in user_ratings]\n",
    "  print(f\"UserId {uid}\\titems: {items}\")"
   ]
  },
  {
   "cell_type": "code",
   "execution_count": null,
   "metadata": {},
   "outputs": [],
   "source": []
  },
  {
   "cell_type": "code",
   "execution_count": null,
   "metadata": {},
   "outputs": [],
   "source": []
  }
 ],
 "metadata": {
  "kernelspec": {
   "display_name": "Python 3",
   "language": "python",
   "name": "python3"
  },
  "language_info": {
   "codemirror_mode": {
    "name": "ipython",
    "version": 3
   },
   "file_extension": ".py",
   "mimetype": "text/x-python",
   "name": "python",
   "nbconvert_exporter": "python",
   "pygments_lexer": "ipython3",
   "version": "3.8.10"
  }
 },
 "nbformat": 4,
 "nbformat_minor": 2
}
